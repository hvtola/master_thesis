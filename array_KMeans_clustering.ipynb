{
 "cells": [
  {
   "cell_type": "code",
   "execution_count": null,
   "metadata": {},
   "outputs": [],
   "source": [
    "import pandas as pd\n",
    "import numpy as np\n",
    "from sklearn.cluster import KMeans"
   ]
  },
  {
   "cell_type": "code",
   "execution_count": null,
   "metadata": {},
   "outputs": [],
   "source": [
    "path = r'path\\to\\array.csv'\n",
    "data = np.loadtxt(path, delimiter=\",\")"
   ]
  },
  {
   "cell_type": "code",
   "execution_count": null,
   "metadata": {},
   "outputs": [],
   "source": [
    "# Ignore reference value\n",
    "X = result_array[:, 0:100]\n",
    "\n",
    "# Normalize y-data from 0-1\n",
    "out_array = np.empty((0, 100))\n",
    "rg = np.arange(0, 18658, 1)\n",
    "\n",
    "for i in rg:\n",
    "  v = X[i, :]\n",
    "  data = (v - v.min()) / (v.max() - v.min())\n",
    "  out_array = np.append(out_array, [data], axis=0)\n",
    "  \n",
    "# Run KMeans to find the most common path types\n",
    "kmeans = KMeans(n_clusters=8, \n",
    "                random_state=0, \n",
    "                n_jobs=-1, \n",
    "                precompute_distances=False)\n",
    "clusters = kmeans.fit_predict(out_array)\n",
    "kmeans.cluster_centers_.shape\n",
    "\n",
    "# Predict path type for all avalanches in the dataset\n",
    "path_data = np.empty((0, 1))\n",
    "rg = np.arange(0, 18658, 1)\n",
    "\n",
    "for i in rg:\n",
    "  arr = out_array[i, :].reshape(1, 100)\n",
    "  path_class = kmeans.predict(arr)\n",
    "  path_data = np.append(path_data, [path_class], axis=0)"
   ]
  }
 ],
 "metadata": {
  "kernelspec": {
   "display_name": "Python 3",
   "language": "python",
   "name": "python3"
  },
  "language_info": {
   "codemirror_mode": {
    "name": "ipython",
    "version": 3
   },
   "file_extension": ".py",
   "mimetype": "text/x-python",
   "name": "python",
   "nbconvert_exporter": "python",
   "pygments_lexer": "ipython3",
   "version": "3.6.10"
  }
 },
 "nbformat": 4,
 "nbformat_minor": 4
}
