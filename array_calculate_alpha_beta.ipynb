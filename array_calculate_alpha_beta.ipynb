{
 "cells": [
  {
   "cell_type": "code",
   "execution_count": null,
   "metadata": {},
   "outputs": [],
   "source": [
    "import numpy as np\n",
    "import pandas as pd\n",
    "import geopandas as gpd\n",
    "import sklearn\n",
    "from sklearn.utils import resample\n",
    "import matplotlib.pyplot as plt\n",
    "from sklearn.preprocessing import PolynomialFeatures\n",
    "from sklearn.linear_model import LinearRegression"
   ]
  },
  {
   "cell_type": "code",
   "execution_count": null,
   "metadata": {},
   "outputs": [],
   "source": [
    "path = r'path\\to\\array.csv'\n",
    "data = np.loadtxt(path, delimiter=\",\")"
   ]
  },
  {
   "cell_type": "code",
   "execution_count": null,
   "metadata": {},
   "outputs": [],
   "source": [
    "# Ignore reference value\n",
    "X = data[:, 0:100]\n",
    "\n",
    "def get_ab(avalanche_number, k, degrees):\n",
    "  # Place the ranges in a variable and preprocess\n",
    "  x = np.arange(100)\n",
    "  y = X[avalanche_number]\n",
    "  x = x.reshape(-1, 1)\n",
    "\n",
    "  # Change the order here. degree is same as M\n",
    "  poly = PolynomialFeatures(degree=7)\n",
    "\n",
    "  # Fit a Polynomial Curve\n",
    "  X_poly = poly.fit_transform(x)\n",
    "  poly.fit(X_poly, y)\n",
    "  linreg = LinearRegression()\n",
    "  linreg.fit(X_poly, y)\n",
    "  y_pred = linreg.predict(X_poly)\n",
    "\n",
    "  # Calculate the 10 degree threshold and gradient of y_pred\n",
    "  x = np.arange(100)\n",
    "  thd = np.tan(np.radians(-degrees))\n",
    "  f = np.repeat(thd, 100, axis=None)\n",
    "  g = np.gradient(y_pred)\n",
    "  idx = np.argwhere(np.diff(np.sign(f - g))).flatten()\n",
    "\n",
    "  # Choose first beta value after k\n",
    "  beta_values = np.append(x[idx], 100)\n",
    "  min_beta = min(filter(lambda i: i > k, beta_values))\n",
    "\n",
    "  # Calculate beta angle\n",
    "  tan = y[0]/min_beta\n",
    "  beta = np.arctan(tan)\n",
    "  beta = np.degrees(beta)\n",
    "\n",
    "  # Calculate alpha angle\n",
    "  tan = y[0]/100\n",
    "  alpha = np.arctan(tan)\n",
    "  alpha = np.degrees(alpha)\n",
    "\n",
    "  if beta == alpha:\n",
    "    beta = 0\n",
    "\n",
    "  return beta, alpha"
   ]
  },
  {
   "cell_type": "code",
   "execution_count": null,
   "metadata": {},
   "outputs": [],
   "source": [
    "# Loop through all avalanches and calculate alpha and beta angles for each avalanche\n",
    "res_array = np.empty((0, 2))\n",
    "rg = range(0, 18658, 1)\n",
    "k = 50 # 5 or 50\n",
    "beta_degrees = 10 # 5, 6, 7, 8, 9, 10, 11, 12, 13, 14, 15, 20, 25 or 30\n",
    "\n",
    "for i in rg:\n",
    "  try:\n",
    "    result = get_ab(i, k, beta_degrees)\n",
    "    res_array = np.append(res_array, [result], axis=0)\n",
    "  except Exception:\n",
    "    pass"
   ]
  }
 ],
 "metadata": {
  "kernelspec": {
   "display_name": "Python 3",
   "language": "python",
   "name": "python3"
  },
  "language_info": {
   "codemirror_mode": {
    "name": "ipython",
    "version": 3
   },
   "file_extension": ".py",
   "mimetype": "text/x-python",
   "name": "python",
   "nbconvert_exporter": "python",
   "pygments_lexer": "ipython3",
   "version": "3.6.10"
  }
 },
 "nbformat": 4,
 "nbformat_minor": 4
}
