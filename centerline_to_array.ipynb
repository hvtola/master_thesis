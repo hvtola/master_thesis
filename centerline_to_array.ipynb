{
 "cells": [
  {
   "cell_type": "code",
   "execution_count": null,
   "metadata": {},
   "outputs": [],
   "source": [
    "import numpy as np\n",
    "import pandas as pd\n",
    "import geopandas as gpd\n",
    "import sklearn\n",
    "from sklearn.utils import resample\n",
    "import matplotlib.pyplot as plt\n",
    "from sklearn.preprocessing import PolynomialFeatures\n",
    "from sklearn.linear_model import LinearRegression"
   ]
  },
  {
   "cell_type": "code",
   "execution_count": null,
   "metadata": {},
   "outputs": [],
   "source": [
    "# --- Read shapefile (point file is made from centerline extracting values every 5 meter using ESRI GIS)\n",
    "path = r'path\\to\\centerline2018_point.shp'\n",
    "df = gpd.read_file(path)"
   ]
  },
  {
   "cell_type": "code",
   "execution_count": null,
   "metadata": {},
   "outputs": [],
   "source": [
    "# Build function to resample data to 100 samples and normalize y-values to x\n",
    "def pathshape(reference_value):\n",
    "  data = df.loc[df['reference'] == reference_value]\n",
    "  # input data (extract point from line every 5 meter)\n",
    "  line = data['Z']\n",
    "  n = (len(data)*5)-5\n",
    "  line = resample(line, n_samples=100)\n",
    "  line = (line-line.min())/n*100\n",
    "  line = line.sort_index()\n",
    "  arr = line.to_numpy()\n",
    "\n",
    "  return arr\n",
    "\n",
    "# Input data  \n",
    "result_array = np.empty((0, 101))\n",
    "rg = range(0, 18658, 1)\n",
    "\n",
    "# Loop through all avalanches using function pathshape(reference_value)\n",
    "for i in rg:\n",
    "  try:\n",
    "    result = pathshape(i)\n",
    "    result = np.sort(result)\n",
    "    # Flip slopes if they don't go from high values to low values\n",
    "    if result[25] < result[75]:\n",
    "      result = np.flip(result)\n",
    "    \n",
    "    result = np.append(result, [i])\n",
    "    result_array = np.append(result_array, [result], axis=0)\n",
    "  except Exception:\n",
    "    pass"
   ]
  },
  {
   "cell_type": "code",
   "execution_count": null,
   "metadata": {},
   "outputs": [],
   "source": [
    "out_path = r'path\\to\\array.csv'\n",
    "np.savetxt(out_path, result_array, delimiter=\",\")"
   ]
  }
 ],
 "metadata": {
  "kernelspec": {
   "display_name": "Python 3",
   "language": "python",
   "name": "python3"
  },
  "language_info": {
   "codemirror_mode": {
    "name": "ipython",
    "version": 3
   },
   "file_extension": ".py",
   "mimetype": "text/x-python",
   "name": "python",
   "nbconvert_exporter": "python",
   "pygments_lexer": "ipython3",
   "version": "3.6.10"
  }
 },
 "nbformat": 4,
 "nbformat_minor": 4
}
