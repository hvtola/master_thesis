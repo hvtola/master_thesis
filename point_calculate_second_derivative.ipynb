{
 "cells": [
  {
   "cell_type": "code",
   "execution_count": null,
   "metadata": {},
   "outputs": [],
   "source": [
    "import numpy as np\n",
    "import pandas as pd\n",
    "import geopandas as gpd\n",
    "from sklearn.utils import resample\n",
    "import matplotlib.pyplot as plt\n",
    "from sklearn.preprocessing import PolynomialFeatures\n",
    "from sklearn.linear_model import LinearRegression\n",
    "import matplotlib.pyplot as plt"
   ]
  },
  {
   "cell_type": "code",
   "execution_count": null,
   "metadata": {},
   "outputs": [],
   "source": [
    "# --- Read shapefile\n",
    "path = r'C:\\path\\to\\point_every5m_from_centerline.shp'\n",
    "df = gpd.read_file(path)"
   ]
  },
  {
   "cell_type": "code",
   "execution_count": null,
   "metadata": {},
   "outputs": [],
   "source": [
    "# --- Function to calculate a, b and c\n",
    "def second_derivative(avalanche_number):\n",
    "    data = df.loc[df['reference'] == avalanche_number]\n",
    "    x_max = data['Z'].count()\n",
    "    x = np.arange(0, x_max*5, 5)\n",
    "    \n",
    "    # Function to calculate the exponential with constants a, b and c\n",
    "    def exponential(x, a, b, c):\n",
    "        return a*x**2 + b*x + c\n",
    "\n",
    "    from scipy.optimize import curve_fit\n",
    "    # Fit the exponential data\n",
    "    pars, cov = curve_fit(f=exponential, xdata=x, ydata=data['Z'])\n",
    "    a, b, c = pars\n",
    "    \n",
    "    return a, b, c"
   ]
  },
  {
   "cell_type": "code",
   "execution_count": null,
   "metadata": {},
   "outputs": [],
   "source": [
    "# --- Calculate a, b and c\n",
    "arr = np.array([])\n",
    "rg = range(0, 18658, 1)\n",
    "\n",
    "for i in rg:\n",
    "    pars = second_derivative(i)\n",
    "    arr = np.append(arr, pars, axis=0)\n",
    "    \n",
    "arr = arr.reshape(18658, 3)\n",
    "\n",
    "second_derivative = arr[:, 0] * 2"
   ]
  }
 ],
 "metadata": {
  "kernelspec": {
   "display_name": "Python 3",
   "language": "python",
   "name": "python3"
  },
  "language_info": {
   "codemirror_mode": {
    "name": "ipython",
    "version": 3
   },
   "file_extension": ".py",
   "mimetype": "text/x-python",
   "name": "python",
   "nbconvert_exporter": "python",
   "pygments_lexer": "ipython3",
   "version": "3.6.10"
  }
 },
 "nbformat": 4,
 "nbformat_minor": 4
}
